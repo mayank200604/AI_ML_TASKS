{
 "cells": [
  {
   "cell_type": "code",
   "execution_count": null,
   "id": "3aaf501a",
   "metadata": {},
   "outputs": [],
   "source": [
    "# Importing necessary libraries\n",
    "import pandas as pd\n",
    "import numpy as np\n",
    "from sklearn import linear_model\n",
    "from sklearn.model_selection import train_test_split\n",
    "import matplotlib.pyplot as plt\n",
    "from sklearn.metrics import mean_absolute_error, mean_squared_error, r2_score\n"
   ]
  },
  {
   "cell_type": "code",
   "execution_count": null,
   "id": "e912203c",
   "metadata": {},
   "outputs": [
    {
     "data": {
      "text/html": [
       "<div>\n",
       "<style scoped>\n",
       "    .dataframe tbody tr th:only-of-type {\n",
       "        vertical-align: middle;\n",
       "    }\n",
       "\n",
       "    .dataframe tbody tr th {\n",
       "        vertical-align: top;\n",
       "    }\n",
       "\n",
       "    .dataframe thead th {\n",
       "        text-align: right;\n",
       "    }\n",
       "</style>\n",
       "<table border=\"1\" class=\"dataframe\">\n",
       "  <thead>\n",
       "    <tr style=\"text-align: right;\">\n",
       "      <th></th>\n",
       "      <th>Area</th>\n",
       "      <th>Bedroom</th>\n",
       "      <th>Age</th>\n",
       "      <th>Price</th>\n",
       "    </tr>\n",
       "  </thead>\n",
       "  <tbody>\n",
       "    <tr>\n",
       "      <th>0</th>\n",
       "      <td>2600</td>\n",
       "      <td>3.0</td>\n",
       "      <td>20</td>\n",
       "      <td>550000</td>\n",
       "    </tr>\n",
       "    <tr>\n",
       "      <th>1</th>\n",
       "      <td>3000</td>\n",
       "      <td>4.0</td>\n",
       "      <td>15</td>\n",
       "      <td>565000</td>\n",
       "    </tr>\n",
       "    <tr>\n",
       "      <th>2</th>\n",
       "      <td>3200</td>\n",
       "      <td>3.0</td>\n",
       "      <td>18</td>\n",
       "      <td>610000</td>\n",
       "    </tr>\n",
       "    <tr>\n",
       "      <th>3</th>\n",
       "      <td>3600</td>\n",
       "      <td>3.0</td>\n",
       "      <td>30</td>\n",
       "      <td>595000</td>\n",
       "    </tr>\n",
       "    <tr>\n",
       "      <th>4</th>\n",
       "      <td>4000</td>\n",
       "      <td>5.0</td>\n",
       "      <td>8</td>\n",
       "      <td>760000</td>\n",
       "    </tr>\n",
       "  </tbody>\n",
       "</table>\n",
       "</div>"
      ],
      "text/plain": [
       "   Area  Bedroom  Age   Price\n",
       "0  2600      3.0   20  550000\n",
       "1  3000      4.0   15  565000\n",
       "2  3200      3.0   18  610000\n",
       "3  3600      3.0   30  595000\n",
       "4  4000      5.0    8  760000"
      ]
     },
     "execution_count": 147,
     "metadata": {},
     "output_type": "execute_result"
    }
   ],
   "source": [
    "# Loading the dataset\n",
    "df = pd.read_csv(\"prices.csv\")\n",
    "df.head(5)"
   ]
  },
  {
   "cell_type": "code",
   "execution_count": 161,
   "id": "8f502d5f",
   "metadata": {},
   "outputs": [
    {
     "data": {
      "text/html": [
       "<div>\n",
       "<style scoped>\n",
       "    .dataframe tbody tr th:only-of-type {\n",
       "        vertical-align: middle;\n",
       "    }\n",
       "\n",
       "    .dataframe tbody tr th {\n",
       "        vertical-align: top;\n",
       "    }\n",
       "\n",
       "    .dataframe thead th {\n",
       "        text-align: right;\n",
       "    }\n",
       "</style>\n",
       "<table border=\"1\" class=\"dataframe\">\n",
       "  <thead>\n",
       "    <tr style=\"text-align: right;\">\n",
       "      <th></th>\n",
       "      <th>Area</th>\n",
       "      <th>Bedroom</th>\n",
       "      <th>Age</th>\n",
       "      <th>Price</th>\n",
       "    </tr>\n",
       "  </thead>\n",
       "  <tbody>\n",
       "    <tr>\n",
       "      <th>46</th>\n",
       "      <td>4450</td>\n",
       "      <td>3.0</td>\n",
       "      <td>9</td>\n",
       "      <td>710000</td>\n",
       "    </tr>\n",
       "    <tr>\n",
       "      <th>47</th>\n",
       "      <td>4550</td>\n",
       "      <td>4.0</td>\n",
       "      <td>7</td>\n",
       "      <td>740000</td>\n",
       "    </tr>\n",
       "    <tr>\n",
       "      <th>48</th>\n",
       "      <td>4650</td>\n",
       "      <td>5.0</td>\n",
       "      <td>6</td>\n",
       "      <td>770000</td>\n",
       "    </tr>\n",
       "    <tr>\n",
       "      <th>49</th>\n",
       "      <td>4750</td>\n",
       "      <td>4.0</td>\n",
       "      <td>8</td>\n",
       "      <td>790000</td>\n",
       "    </tr>\n",
       "    <tr>\n",
       "      <th>50</th>\n",
       "      <td>4850</td>\n",
       "      <td>5.0</td>\n",
       "      <td>3</td>\n",
       "      <td>820000</td>\n",
       "    </tr>\n",
       "  </tbody>\n",
       "</table>\n",
       "</div>"
      ],
      "text/plain": [
       "    Area  Bedroom  Age   Price\n",
       "46  4450      3.0    9  710000\n",
       "47  4550      4.0    7  740000\n",
       "48  4650      5.0    6  770000\n",
       "49  4750      4.0    8  790000\n",
       "50  4850      5.0    3  820000"
      ]
     },
     "execution_count": 161,
     "metadata": {},
     "output_type": "execute_result"
    }
   ],
   "source": [
    "# Filling missing values in 'Bedroom' column with the median value\n",
    "import math\n",
    "median_bedroom= math.floor(df.Bedroom.median())\n",
    "\n",
    "df.Bedroom= df.Bedroom.fillna(median_bedroom)\n",
    "df.tail(5)"
   ]
  },
  {
   "cell_type": "code",
   "execution_count": null,
   "id": "86c06d84",
   "metadata": {},
   "outputs": [],
   "source": [
    "# Preparing data for training and testing\n",
    "X= df[[\"Age\",\"Bedroom\",\"Area\"]]\n",
    "y= df[\"Price\"]\n",
    "\n",
    "X_train, X_test, y_train, y_test = train_test_split(X, y, test_size=0.33, random_state=42)"
   ]
  },
  {
   "cell_type": "code",
   "execution_count": null,
   "id": "d63b005f",
   "metadata": {},
   "outputs": [],
   "source": [
    "# Training the Linear Regression model\n",
    "reg= linear_model.LinearRegression()\n",
    "reg.fit(X_train,y_train)\n",
    "y_pred = reg.predict(X)\n"
   ]
  },
  {
   "cell_type": "code",
   "execution_count": null,
   "id": "115fc7cc",
   "metadata": {},
   "outputs": [
    {
     "data": {
      "image/png": "[encoded data removed]",
      "text/plain": [
       "<Figure size 640x480 with 1 Axes>"
      ]
     },
     "metadata": {},
     "output_type": "display_data"
    }
   ],
   "source": [
    "# Plotting the regression line for 'Area' vs 'Price'\n",
    "area_range = np.linspace(df['Area'].min(), df['Area'].max(), 100)\n",
    "\n",
    "X_line = pd.DataFrame({\n",
    "    'Age': [df['Age'].mean()]*100,\n",
    "    'Bedroom': [df['Bedroom'].mean()]*100,\n",
    "    'Area': area_range\n",
    "})\n",
    "\n",
    "y_line = reg.predict(X_line)\n",
    " \n",
    "\n",
    "plt.scatter(df['Area'], df['Price'], color='blue', label='Actual Data')\n",
    "plt.plot(area_range, y_line, color='red', label='Regression Line')\n",
    "plt.xlabel('Area (sq.ft)')\n",
    "plt.ylabel('Price')\n",
    "plt.title('Linear Regression: Area vs Price')\n",
    "plt.legend()\n",
    "plt.show()"
   ]
  },
  {
   "cell_type": "code",
   "execution_count": null,
   "id": "4543aa14",
   "metadata": {},
   "outputs": [
    {
     "data": {
      "text/plain": [
       "array([-4250.59924967,  1102.25494535,   115.57863925])"
      ]
     },
     "execution_count": 153,
     "metadata": {},
     "output_type": "execute_result"
    }
   ],
   "source": [
    "reg.coef_ # Coefficients for Age, Bedroom, Area"
   ]
  },
  {
   "cell_type": "code",
   "execution_count": null,
   "id": "3e5e9984",
   "metadata": {},
   "outputs": [
    {
     "data": {
      "text/plain": [
       "np.float64(302957.3342616454)"
      ]
     },
     "execution_count": 154,
     "metadata": {},
     "output_type": "execute_result"
    }
   ],
   "source": [
    "reg.intercept_  # Intercept of the regression line"
   ]
  },
  {
   "cell_type": "code",
   "execution_count": null,
   "id": "a06f7294",
   "metadata": {},
   "outputs": [
    {
     "name": "stderr",
     "output_type": "stream",
     "text": [
      "c:\\Users\\mayan\\.conda\\envs\\tf2_19\\lib\\site-packages\\sklearn\\utils\\validation.py:2739: UserWarning: X does not have valid feature names, but LinearRegression was fitted with feature names\n",
      "  warnings.warn(\n"
     ]
    },
    {
     "data": {
      "text/plain": [
       "array([493196.])"
      ]
     },
     "execution_count": 155,
     "metadata": {},
     "output_type": "execute_result"
    }
   ],
   "source": [
    "#Predicting the price of a house with 24 years old, 3 bedrooms and 2500 sq.ft area\n",
    "price= np.round(reg.predict([[24,3,2500]]))\n",
    "price"
   ]
  },
  {
   "cell_type": "markdown",
   "id": "ced7993c",
   "metadata": {},
   "source": [
    "Step-by-step calculation\n",
    "\n",
    "Age contribution: -4250.60 * 24 = -102014.4\n",
    "\n",
    "Bedroom contribution: 1102.25 * 3 = 3306.75\n",
    "\n",
    "Area contribution: 115.58 * 2500 = 288950\n",
    "\n",
    "302957.33 - 102014.4 + 3306.75 + 288950 ≈  493,200"
   ]
  },
  {
   "cell_type": "code",
   "execution_count": null,
   "id": "792bf5d3",
   "metadata": {},
   "outputs": [
    {
     "name": "stderr",
     "output_type": "stream",
     "text": [
      "c:\\Users\\mayan\\.conda\\envs\\tf2_19\\lib\\site-packages\\sklearn\\utils\\validation.py:2739: UserWarning: X does not have valid feature names, but LinearRegression was fitted with feature names\n",
      "  warnings.warn(\n"
     ]
    },
    {
     "data": {
      "text/plain": [
       "array([436024.])"
      ]
     },
     "execution_count": 156,
     "metadata": {},
     "output_type": "execute_result"
    }
   ],
   "source": [
    "# Predicting the price of a house with 10 years old, 2 bedrooms and 1500 sq.ft area\n",
    "price= np.round(reg.predict([[10,2,1500]]))\n",
    "price"
   ]
  },
  {
   "cell_type": "markdown",
   "id": "74fcf256",
   "metadata": {},
   "source": [
    "Step-by-step:\n",
    "\n",
    "Age contribution: -4250.60 * 10 = -42506\n",
    "\n",
    "Bedroom contribution: 1102.25 * 2 = 2204.5\n",
    "\n",
    "Area contribution: 115.58 * 1500 = 173370\n",
    "\n",
    "302957.33 - 42506 + 2204.5 + 173370 ≈ 436025.83"
   ]
  },
  {
   "cell_type": "code",
   "execution_count": null,
   "id": "8f4f726a",
   "metadata": {},
   "outputs": [
    {
     "name": "stderr",
     "output_type": "stream",
     "text": [
      "c:\\Users\\mayan\\.conda\\envs\\tf2_19\\lib\\site-packages\\sklearn\\utils\\validation.py:2739: UserWarning: X does not have valid feature names, but LinearRegression was fitted with feature names\n",
      "  warnings.warn(\n"
     ]
    },
    {
     "data": {
      "text/plain": [
       "array([447542.])"
      ]
     },
     "execution_count": 157,
     "metadata": {},
     "output_type": "execute_result"
    }
   ],
   "source": [
    "# Predicting the price of a house with 35 years old, 4 bedrooms and 2500 sq.ft area\n",
    "price= np.round(reg.predict([[35,4,2500]]))\n",
    "price"
   ]
  },
  {
   "cell_type": "markdown",
   "id": "00d670d4",
   "metadata": {},
   "source": [
    "Step-by-step calculation:\n",
    "\n",
    "Age contribution: -4250.60 * 35 = -148771\n",
    "\n",
    "Bedroom contribution: 1102.25 * 4 = 4409\n",
    "\n",
    "Area contribution: 115.58 * 2500 = 288950\n",
    "\n",
    "302957.33 - 148771 + 4409 +  288950 ≈ 447545"
   ]
  },
  {
   "cell_type": "code",
   "execution_count": null,
   "id": "9d58e0cf",
   "metadata": {},
   "outputs": [
    {
     "name": "stdout",
     "output_type": "stream",
     "text": [
      "MAE: 23647.02\n",
      "MSE: 924830630.93\n",
      "R²: 0.91\n"
     ]
    }
   ],
   "source": [
    "# Evaluating the model\n",
    "y_test_pred = reg.predict(X_test)\n",
    "\n",
    "mae = mean_absolute_error(y_test, y_test_pred)\n",
    "mse = mean_squared_error(y_test, y_test_pred)\n",
    "r2 = r2_score(y_test, y_test_pred)\n",
    "\n",
    "print(f\"MAE: {mae:.2f}\")\n",
    "print(f\"MSE: {mse:.2f}\")\n",
    "print(f\"R²: {r2:.2f}\")"
   ]
  }
 ],
 "metadata": {
  "kernelspec": {
   "display_name": "tf2_19",
   "language": "python",
   "name": "python3"
  },
  "language_info": {
   "codemirror_mode": {
    "name": "ipython",
    "version": 3
   },
   "file_extension": ".py",
   "mimetype": "text/x-python",
   "name": "python",
   "nbconvert_exporter": "python",
   "pygments_lexer": "ipython3",
   "version": "3.10.18"
  }
 },
 "nbformat": 4,
 "nbformat_minor": 5
}
